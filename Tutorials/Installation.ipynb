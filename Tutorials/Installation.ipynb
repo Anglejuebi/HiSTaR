{
 "cells": [
  {
   "metadata": {},
   "cell_type": "markdown",
   "source": "# installation",
   "id": "584a44ce842c8f28"
  },
  {
   "metadata": {},
   "cell_type": "markdown",
   "source": [
    "## 1. Python \n",
    "    git  clone https://github.com/Anglejuebi/HiSTaR\n",
    "    cd HiSTaR\n",
    "    python setup.py build\n",
    "    python setup.py install"
   ],
   "id": "886bcdad13192c7a"
  },
  {
   "metadata": {},
   "cell_type": "markdown",
   "source": [
    "## 2.Anaconda (recommend)\n",
    "    conda create -n HiSTaR python=3.11\n",
    "    \n",
    "    conda activate HiSTaR\n",
    "    \n",
    "    git clone https://github.com/Anglejuebi/HiSTaR\n",
    "    \n",
    "    cd HiSTaR\n",
    "    \n",
    "    python setup.py build\n",
    "    \n",
    "    python setup.py install"
   ],
   "id": "b4934162d89d61be"
  },
  {
   "metadata": {},
   "cell_type": "markdown",
   "source": [
    "### Use HiSTaR in notebook\n",
    "    pip install ipykernel\n",
    "    \n",
    "    python -m ipykernel install --user --name=HiSTaR"
   ],
   "id": "52bb33f21bfe12cb"
  },
  {
   "metadata": {},
   "cell_type": "markdown",
   "source": "### HiSTaR needs to use R mclust for clustering. If you encounter errors, you can manually download R and install mclust, and then modify your path in the `HiSTaR.configure_r_environment`",
   "id": "20b59fff3199454e"
  },
  {
   "metadata": {},
   "cell_type": "markdown",
   "source": [
    "``` HiSTaR.configure_r_environment\n",
    "{\n",
    "    try:\n",
    "        ctypes.CDLL(r\"D:\\R-4.4.2\\bin\\x64\\Rblas.dll\") #replace your path\n",
    "        ctypes.CDLL(r\"D:\\R-4.4.2\\bin\\x64\\Rlapack.dll\") #replace your path\n",
    "        # print(\"Rblas.dll and Rlapack.dll load successful！\")\n",
    "    except Exception as e:\n",
    "        print(f\"load error：{e}\")\n",
    "\n",
    "    import os\n",
    "    from pathlib import Path\n",
    "    import ctypes\n",
    "    r_bin = Path(\"D:/R-4.4.2/bin/x64\") #replace your path\n",
    "    ctypes.CDLL(str(r_bin / \"Rblas.dll\")) #replace your path\n",
    "    ctypes.CDLL(str(r_bin / \"Rlapack.dll\")) #replace your path\n",
    "\n",
    "    os.environ['R_HOME'] = str(r_bin.parent.parent)\n",
    "    os.environ['PATH'] = f\"{r_bin};{os.environ.get('PATH', '')}\"\n",
    "\n",
    "    import rpy2.robjects as robjects\n",
    "    from rpy2.rinterface_lib import openrlib\n",
    "    openrlib.rlib.R_set_command_line_arguments(0, [])\n",
    "\n",
    "    test_code = '''\n",
    "        x <- matrix(c(1,2,3,4), 2, 2)\n",
    "        # print(\"Testing simple SVD:\")\n",
    "        try({\n",
    "            result <- La.svd(x)\n",
    "            # print(result)\n",
    "        }, silent=FALSE)\n",
    "    '''\n",
    "    result = robjects.r(test_code)\n",
    "    # print(result)\n",
    "\n",
    "    os.environ['R_HOME'] = 'D:/R-4.4.2' #replace your path\n",
    "    os.environ['R_USER'] = os.path.expanduser('~') #replace your path\n",
    "    os.environ['PATH'] = 'D:/R-4.4.2/bin/x64;' + os.environ['PATH'] #replace your path\n",
    "    os.environ['R_LIBS'] = 'D:/R-4.4.2/library' #replace your path\n",
    "}\n",
    "```"
   ],
   "id": "619924290a5042dd"
  }
 ],
 "metadata": {
  "kernelspec": {
   "display_name": "ST_pytorch",
   "language": "python",
   "name": "st_pytorch"
  },
  "language_info": {
   "codemirror_mode": {
    "name": "ipython",
    "version": 3
   },
   "file_extension": ".py",
   "mimetype": "text/x-python",
   "name": "python",
   "nbconvert_exporter": "python",
   "pygments_lexer": "ipython3",
   "version": "3.11.3"
  }
 },
 "nbformat": 4,
 "nbformat_minor": 5
}
